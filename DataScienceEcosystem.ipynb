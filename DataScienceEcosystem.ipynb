{
  "nbformat": 4,
  "nbformat_minor": 0,
  "metadata": {
    "colab": {
      "provenance": [],
      "authorship_tag": "ABX9TyNgEMS4UU28MzR2Eee7MY8j",
      "include_colab_link": true
    },
    "kernelspec": {
      "name": "python3",
      "display_name": "Python 3"
    },
    "language_info": {
      "name": "python"
    }
  },
  "cells": [
    {
      "cell_type": "markdown",
      "metadata": {
        "id": "view-in-github",
        "colab_type": "text"
      },
      "source": [
        "<a href=\"https://colab.research.google.com/github/Betsave/testrepo/blob/main/DataScienceEcosystem.ipynb\" target=\"_parent\"><img src=\"https://colab.research.google.com/assets/colab-badge.svg\" alt=\"Open In Colab\"/></a>"
      ]
    },
    {
      "cell_type": "markdown",
      "source": [
        "# Data Science Tools and Ecosystem"
      ],
      "metadata": {
        "id": "SoIj0_fpWFLF"
      }
    },
    {
      "cell_type": "markdown",
      "source": [
        "This notebook provides an overview of data science tools and ecosystems. Through different exercises, we will delve into the essential programming languages, libraries, and tools used in data science, along with performing basic arithmetic operations using Python.\n",
        "\n",
        "\n"
      ],
      "metadata": {
        "id": "uG-Dsj8bWgpO"
      }
    },
    {
      "cell_type": "markdown",
      "source": [
        "Some of the popular languages that Data Scientists use are:\n",
        "\n",
        "\n",
        "\n",
        "*   R\n",
        "*   Java\n",
        "*   SQL\n",
        "*   Python"
      ],
      "metadata": {
        "id": "EdbyQ6TZZyOk"
      }
    },
    {
      "cell_type": "markdown",
      "source": [
        "Some of the commonly used libraries used by Data Scientists include:\n",
        "\n",
        "*   NumPy\n",
        "*   TensorFlow\n",
        "*   Pandas\n",
        "*   Scikit-learn\n",
        "*   Matplotlib"
      ],
      "metadata": {
        "id": "ZsNjUE1OawBE"
      }
    },
    {
      "cell_type": "markdown",
      "source": [
        "| Data Science Tools |\n",
        "|----------------------------------|\n",
        "| RStudio                |\n",
        "| Jupyter Notebook                          |\n",
        "| Apache Zeppelin                  |\n"
      ],
      "metadata": {
        "id": "FrGw50hddHb0"
      }
    },
    {
      "cell_type": "markdown",
      "source": [
        "Below are a few examples of evaluating arithmetic expressions in Python.\n",
        "\n",
        "1.   **Multiplication:** `2 * 2 = 4`\n",
        "2.   **Exponentiation:** `4 ** 4 = 256`\n",
        "3.  **Parentheses with nested operations:**  \n",
        "      `(5 + (3 * 4)) - 2 = 10\n",
        "      `"
      ],
      "metadata": {
        "id": "sRg1NTEofehR"
      }
    },
    {
      "cell_type": "code",
      "source": [
        "# This is a simple arithmetic expression to multiply then add integers\n",
        "(3 * 4) + 5"
      ],
      "metadata": {
        "colab": {
          "base_uri": "https://localhost:8080/"
        },
        "id": "4uDvBM64h_R4",
        "outputId": "ebf47d4e-b9d0-4629-ec00-338b33e211ca"
      },
      "execution_count": 9,
      "outputs": [
        {
          "output_type": "execute_result",
          "data": {
            "text/plain": [
              "17"
            ]
          },
          "metadata": {},
          "execution_count": 9
        }
      ]
    },
    {
      "cell_type": "code",
      "source": [
        "# This will convert 200 minutes to hours by dividing by 60\n",
        "200 / 60"
      ],
      "metadata": {
        "colab": {
          "base_uri": "https://localhost:8080/"
        },
        "id": "LpOt_Pa6ifbr",
        "outputId": "6869f7b5-2840-489c-d97b-d3603ebdfc42"
      },
      "execution_count": 10,
      "outputs": [
        {
          "output_type": "execute_result",
          "data": {
            "text/plain": [
              "3.3333333333333335"
            ]
          },
          "metadata": {},
          "execution_count": 10
        }
      ]
    },
    {
      "cell_type": "markdown",
      "source": [
        "**Objectives:**\n",
        "\n",
        "\n",
        "*   List popular languages for Data Science\n",
        "*   Perform basic arithmetic operations in Python\n",
        "*   Explore differents open-source Data Science tools\n",
        "*   Identify commonly used Data Science libraries\n",
        "*   Learn how to convert units using Python (for example, transforming minutes into hours)\n",
        "\n",
        "\n",
        "\n",
        "\n",
        "\n",
        "\n",
        "\n"
      ],
      "metadata": {
        "id": "Idj8HvTji-MK"
      }
    },
    {
      "cell_type": "markdown",
      "source": [
        "**Author**\n",
        "\n",
        "Betsave Vicencio Ramírez"
      ],
      "metadata": {
        "id": "uQLQL5VokgtA"
      }
    }
  ]
}